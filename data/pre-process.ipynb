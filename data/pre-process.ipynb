{
 "cells": [
  {
   "cell_type": "code",
   "execution_count": 32,
   "metadata": {
    "collapsed": true
   },
   "outputs": [
    {
     "name": "stderr",
     "output_type": "stream",
     "text": [
      "<ipython-input-32-f2dcc5fc149b>:24: SettingWithCopyWarning: \n",
      "A value is trying to be set on a copy of a slice from a DataFrame\n",
      "\n",
      "See the caveats in the documentation: https://pandas.pydata.org/pandas-docs/stable/user_guide/indexing.html#returning-a-view-versus-a-copy\n",
      "  dataset['Open'][ind] = dataset['Open'][ind]/next_close - 1\n",
      "<ipython-input-32-f2dcc5fc149b>:25: SettingWithCopyWarning: \n",
      "A value is trying to be set on a copy of a slice from a DataFrame\n",
      "\n",
      "See the caveats in the documentation: https://pandas.pydata.org/pandas-docs/stable/user_guide/indexing.html#returning-a-view-versus-a-copy\n",
      "  dataset['Close'][ind] = dataset['Close'][ind]/next_close - 1\n",
      "<ipython-input-32-f2dcc5fc149b>:26: SettingWithCopyWarning: \n",
      "A value is trying to be set on a copy of a slice from a DataFrame\n",
      "\n",
      "See the caveats in the documentation: https://pandas.pydata.org/pandas-docs/stable/user_guide/indexing.html#returning-a-view-versus-a-copy\n",
      "  dataset['High'][ind] = dataset['High'][ind]/next_close - 1\n",
      "<ipython-input-32-f2dcc5fc149b>:27: SettingWithCopyWarning: \n",
      "A value is trying to be set on a copy of a slice from a DataFrame\n",
      "\n",
      "See the caveats in the documentation: https://pandas.pydata.org/pandas-docs/stable/user_guide/indexing.html#returning-a-view-versus-a-copy\n",
      "  dataset['Low'][ind] = dataset['Low'][ind]/next_close - 1\n"
     ]
    },
    {
     "name": "stdout",
     "output_type": "stream",
     "text": [
      "            Date  Movement      Open      High       Low     Close     Volume\n",
      "0     2016-07-01  0.001081 -0.000321  0.004037 -0.000730  0.001081   82160000\n",
      "1     2016-06-30  0.013298  0.001022  0.013333  0.000968  0.013298  133030000\n",
      "2     2016-06-29  0.016368  0.002659  0.016932  0.002659  0.016368  106380000\n",
      "3     2016-06-28  0.015722  0.002933  0.015722  0.002933  0.015722  112190000\n",
      "4     2016-06-27 -0.014971 -0.002617 -0.002617 -0.019405 -0.014971  138740000\n",
      "...          ...       ...       ...       ...       ...       ...        ...\n",
      "1983  2008-08-15  0.003785 -0.000406  0.008089 -0.001395  0.003785  215040000\n",
      "1984  2008-08-14  0.007194 -0.000077  0.016069 -0.007116  0.007194  159790000\n",
      "1985  2008-08-13 -0.009406 -0.000830 -0.000746 -0.016245 -0.009406  182550000\n",
      "1986  2008-08-12 -0.011872 -0.000055  0.000000 -0.015348 -0.011872  173590000\n",
      "1987  2008-08-11  0.004093 -0.000396  0.011316 -0.005010  0.004093  183190000\n",
      "\n",
      "[1988 rows x 7 columns]\n"
     ]
    }
   ],
   "source": [
    "import pandas as pd\n",
    "import numpy as np\n",
    "dataset = pd.read_csv('upload_DJIA_table.csv')\n",
    "\n",
    "# print(dataset)\n",
    "\n",
    "movement = []\n",
    "\n",
    "for ind in dataset.index:\n",
    "    if ind == dataset.index.stop - 1:\n",
    "        break\n",
    "    movement.append((dataset['Adj Close'][ind] - dataset['Adj Close'][ind + 1]) / dataset['Adj Close'][ind + 1])\n",
    "\n",
    "movement.append(0.0)\n",
    "\n",
    "dataset['Movement'] = movement\n",
    "\n",
    "pd.set_option(\"display.precision\", 6)\n",
    "\n",
    "for ind in dataset.index:\n",
    "    if ind == dataset.index.stop - 1:\n",
    "        break\n",
    "    next_close = dataset['Adj Close'][ind + 1]\n",
    "    dataset['Open'][ind] = dataset['Open'][ind]/next_close - 1\n",
    "    dataset['Close'][ind] = dataset['Close'][ind]/next_close - 1\n",
    "    dataset['High'][ind] = dataset['High'][ind]/next_close - 1\n",
    "    dataset['Low'][ind] = dataset['Low'][ind]/next_close - 1\n",
    "\n",
    "dataset.drop('Adj Close', inplace=True, axis=1)\n",
    "dataset = dataset.iloc[:-1]\n",
    "dataset = dataset[['Date', 'Movement', 'Open', 'High', 'Low', 'Close', 'Volume']]\n",
    "dataset.to_csv('djia_preprocessed.txt', index=False, sep='\\t')\n",
    "print(dataset)"
   ]
  },
  {
   "cell_type": "code",
   "execution_count": 31,
   "outputs": [
    {
     "name": "stdout",
     "output_type": "stream",
     "text": [
      "             Date                                               News\n",
      "0      2016-07-01  A 117-year-old woman in Mexico City finally re...\n",
      "1      2016-07-01   IMF chief backs Athens as permanent Olympic host\n",
      "2      2016-07-01  The president of France says if Brexit won, so...\n",
      "3      2016-07-01  British Man Who Must Give Police 24 Hours' Not...\n",
      "4      2016-07-01  100+ Nobel laureates urge Greenpeace to stop o...\n",
      "...           ...                                                ...\n",
      "73603  2008-06-08  b'Man goes berzerk in Akihabara and stabs ever...\n",
      "73604  2008-06-08  b'Threat of world AIDS pandemic among heterose...\n",
      "73605  2008-06-08  b'Angst in Ankara: Turkey Steers into a Danger...\n",
      "73606  2008-06-08  b\"UK: Identity cards 'could be used to spy on ...\n",
      "73607  2008-06-08  b'Marriage, they said, was reduced to the stat...\n",
      "\n",
      "[73608 rows x 2 columns]\n"
     ]
    }
   ],
   "source": [
    "import os\n",
    "import json\n",
    "from sklearn.feature_extraction.text import CountVectorizer\n",
    "\n",
    "reddit = pd.read_csv('RedditNews.csv')\n",
    "path = 'news/preprocessed/'\n",
    "for ind in reddit.index:\n",
    "    dict = {}\n",
    "    with open(path + reddit['Date'][ind], 'a') as f:\n",
    "        dict['text'] = CountVectorizer().build_tokenizer()(reddit['News'][ind].lower())\n",
    "        json.dump(dict, f)\n",
    "        f.write(\"\\n\")\n",
    "print(reddit)"
   ],
   "metadata": {
    "collapsed": false,
    "pycharm": {
     "name": "#%%\n"
    }
   }
  },
  {
   "cell_type": "code",
   "execution_count": null,
   "outputs": [],
   "source": [],
   "metadata": {
    "collapsed": false,
    "pycharm": {
     "name": "#%%\n"
    }
   }
  }
 ],
 "metadata": {
  "kernelspec": {
   "display_name": "Python 3",
   "language": "python",
   "name": "python3"
  },
  "language_info": {
   "codemirror_mode": {
    "name": "ipython",
    "version": 2
   },
   "file_extension": ".py",
   "mimetype": "text/x-python",
   "name": "python",
   "nbconvert_exporter": "python",
   "pygments_lexer": "ipython2",
   "version": "2.7.6"
  }
 },
 "nbformat": 4,
 "nbformat_minor": 0
}